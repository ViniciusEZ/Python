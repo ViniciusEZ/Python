{
 "cells": [
  {
   "cell_type": "markdown",
   "id": "195dbf8c",
   "metadata": {},
   "source": [
    "## What's Lambda?\n",
    "\n",
    "***A lambda function is a small anonymous function. \n",
    "\n",
    "A lambda function can take any number of arguments, but can only have one expression.\n",
    "\n"
   ]
  },
  {
   "cell_type": "code",
   "execution_count": 4,
   "id": "9451ae85",
   "metadata": {},
   "outputs": [
    {
     "name": "stdout",
     "output_type": "stream",
     "text": [
      "[['P4', 100], ['P3', 90], ['P2', 78], ['P1', 60], ['P5', 43]]\n"
     ]
    }
   ],
   "source": [
    "list = [['P1', 60], ['P2', 78], ['P3', 90], ['P4', 100], ['P5', 43]]\n",
    "list.sort(key=lambda item: item[1], reverse=True)\n",
    "print(list)"
   ]
  },
  {
   "cell_type": "code",
   "execution_count": 11,
   "id": "19462730",
   "metadata": {},
   "outputs": [
    {
     "name": "stdout",
     "output_type": "stream",
     "text": [
      "[['P5', 43], ['P4', 100], ['P3', 90], ['P2', 78], ['P1', 60]]\n"
     ]
    }
   ],
   "source": [
    "list = [['P1', 60], ['P2', 78], ['P3', 90], ['P4', 100], ['P5', 43]]\n",
    "print(sorted(list, key=lambda i: i[0], reverse=True))"
   ]
  },
  {
   "cell_type": "markdown",
   "id": "c2880041",
   "metadata": {},
   "source": [
    "## Reference, Shallow copy and deep copy\n",
    "\n",
    "**REFERENCE: A variável recebe os mesmos valores de uma outra lista, tupla ou dicionário(variável no geral) e, quando alteradas nesta variável, é alterado na lista, etc também. (a variável aponta para o mesmo valor de outra na memória)\n",
    "\n",
    "SHALLOW COPY: Todos os valores imutáveis de uma lista(variáveis)... são copiados para dentro de uma outra lista, porém os valores mutáveis, como uma própria lista ou dicionários, são passados por referência.\n",
    "\n",
    "DEEP COPY: Todos os valores dentro de uma lista, sendo eles mutáveis ou imutáveis, serão copiados para uma outra lista, e a alteração de uma não afetará na outra.\n"
   ]
  },
  {
   "cell_type": "code",
   "execution_count": 12,
   "id": "0cfad41e",
   "metadata": {},
   "outputs": [
    {
     "name": "stdout",
     "output_type": "stream",
     "text": [
      "['Luiz', 'Maria', 'João', ['OTHERS']]\n",
      "['Luiz', 'Felipe', 'João', ['Anything']]\n"
     ]
    }
   ],
   "source": [
    "from copy import deepcopy\n",
    "\n",
    "people = ['Luiz', 'Maria', 'João', ['OTHERS']] \n",
    "#copy_people = people -> reference\n",
    "# copy_people = people.copy() -> Shallow copy \n",
    "copy_people = deepcopy(people) # deep copy\n",
    "\n",
    "copy_people[1] = 'Felipe'\n",
    "copy_people[3][0] = 'Anything'\n",
    "print(people)\n",
    "print(copy_people)"
   ]
  },
  {
   "cell_type": "code",
   "execution_count": 13,
   "id": "0a76506e",
   "metadata": {},
   "outputs": [
    {
     "name": "stdout",
     "output_type": "stream",
     "text": [
      "{'firstname': 'Vinicius', 'lastname': 'Wolfgang', 'adresses': [{'line1': 'St. Brasil', 'line2': 30}, {'line1': 'ST. Im. Leopoldina', 'line2': 45}]}\n",
      "{'firstname': 'Whatever', 'lastname': 'Wolfgang', 'adresses': [{'line1': 'St. Brasil', 'line2': 30}, {'line1': 'YES', 'line2': 45}]}\n"
     ]
    }
   ],
   "source": [
    "from copy import deepcopy\n",
    "\n",
    "person = {\n",
    "    'firstname': 'Vinicius',\n",
    "    'lastname': 'Wolfgang',\n",
    "    'adresses': [\n",
    "        {'line1': 'St. Brasil', 'line2': 30},\n",
    "        {'line1': 'ST. Im. Leopoldina', 'line2': 45}\n",
    "    ]\n",
    "}\n",
    "\n",
    "copy_person = person.copy() \n",
    "copy_person = deepcopy(person)\n",
    "copy_person['firstname'] = 'Whatever'\n",
    "copy_person['adresses'][1]['line1'] = 'YES'\n",
    "\n",
    "print(person)\n",
    "print(copy_person)"
   ]
  },
  {
   "cell_type": "markdown",
   "id": "e635279c",
   "metadata": {},
   "source": [
    "## RETURNING TO LAMBDA"
   ]
  },
  {
   "cell_type": "code",
   "execution_count": 17,
   "id": "c7ed0415",
   "metadata": {},
   "outputs": [
    {
     "data": {
      "text/plain": [
       "30"
      ]
     },
     "execution_count": 17,
     "metadata": {},
     "output_type": "execute_result"
    }
   ],
   "source": [
    "multiply = lambda x,y: x*y\n",
    "multiply(10,3)"
   ]
  },
  {
   "cell_type": "code",
   "execution_count": 24,
   "id": "6ffff850",
   "metadata": {},
   "outputs": [
    {
     "data": {
      "text/plain": [
       "1024"
      ]
     },
     "execution_count": 24,
     "metadata": {},
     "output_type": "execute_result"
    }
   ],
   "source": [
    "power = lambda x,y: x ** y if x < y else x + y\n",
    "power(4,5)"
   ]
  },
  {
   "cell_type": "code",
   "execution_count": 8,
   "id": "72921034",
   "metadata": {},
   "outputs": [
    {
     "data": {
      "text/plain": [
       "[4, 8, 12, 16]"
      ]
     },
     "execution_count": 8,
     "metadata": {},
     "output_type": "execute_result"
    }
   ],
   "source": [
    "some_num = [2,4,6,8]\n",
    "double = map(lambda x: x+x, some_num)\n",
    "list(double)"
   ]
  },
  {
   "cell_type": "code",
   "execution_count": 12,
   "id": "e8be5a97",
   "metadata": {},
   "outputs": [
    {
     "data": {
      "text/plain": [
       "['my', 'python', 'file']"
      ]
     },
     "execution_count": 12,
     "metadata": {},
     "output_type": "execute_result"
    }
   ],
   "source": [
    "# MAP\n",
    "strings = ['My','Python','File']\n",
    "cap = map(lambda x:str.lower(x), strings)\n",
    "list(cap)"
   ]
  },
  {
   "cell_type": "code",
   "execution_count": 23,
   "id": "2afdf2a5",
   "metadata": {},
   "outputs": [],
   "source": [
    "#sorting with lambda function\n",
    "attendance = [23,45,7,8,12,9,10]\n",
    "attendance.sort(key=lambda x:x*1.5)"
   ]
  },
  {
   "cell_type": "code",
   "execution_count": 25,
   "id": "94ff8e2e",
   "metadata": {},
   "outputs": [
    {
     "data": {
      "text/plain": [
       "[7, 8, 9, 10, 12, 23, 45]"
      ]
     },
     "execution_count": 25,
     "metadata": {},
     "output_type": "execute_result"
    }
   ],
   "source": [
    "attendance"
   ]
  },
  {
   "cell_type": "code",
   "execution_count": 28,
   "id": "4d6a4bde",
   "metadata": {},
   "outputs": [
    {
     "data": {
      "text/plain": [
       "[('9E', 1004), ('9B', 54), ('9A', 35), ('9D', 23), ('9C', 13)]"
      ]
     },
     "execution_count": 28,
     "metadata": {},
     "output_type": "execute_result"
    }
   ],
   "source": [
    "class_att = [('9A', 35),('9B', 54),('9C', 13),('9D', 23),('9E', 1004),]\n",
    "sorted(class_att, key=lambda x: x[1], reverse=True)"
   ]
  },
  {
   "cell_type": "code",
   "execution_count": 40,
   "id": "d6ac4bd4",
   "metadata": {},
   "outputs": [
    {
     "data": {
      "text/plain": [
       "[100, 79, 45]"
      ]
     },
     "execution_count": 40,
     "metadata": {},
     "output_type": "execute_result"
    }
   ],
   "source": [
    "# Filter and lambda function\n",
    "attendance = [23,45,79,8,12,9,100]\n",
    "abv_avg_att = filter(lambda x:x > 35, attendance)\n",
    "sorted(list(abv_avg_att), reverse=True)"
   ]
  },
  {
   "cell_type": "code",
   "execution_count": 60,
   "id": "7a92de41",
   "metadata": {},
   "outputs": [
    {
     "data": {
      "text/plain": [
       "['India', 'France', 'Germany']"
      ]
     },
     "execution_count": 60,
     "metadata": {},
     "output_type": "execute_result"
    }
   ],
   "source": [
    "countries = ['India', 'US', 'UK', 'France', 'Germany', 'UAE']\n",
    "count_3 = filter(lambda x: len(x) > 3, countries)\n",
    "list(count_3)"
   ]
  },
  {
   "cell_type": "code",
   "execution_count": 70,
   "id": "b6e951e4",
   "metadata": {},
   "outputs": [
    {
     "name": "stdout",
     "output_type": "stream",
     "text": [
      "654\n"
     ]
    }
   ],
   "source": [
    "# Reduce function and lambda.\n",
    "from functools import reduce\n",
    "nums = [10,302,43,5,65,8,2,4,532,43]\n",
    "sum_nums = reduce(lambda total, x : total + x if x > 100 else total - x , nums, 0)\n",
    "print(sum_nums)"
   ]
  },
  {
   "cell_type": "code",
   "execution_count": 72,
   "id": "db9ff38d",
   "metadata": {
    "scrolled": true
   },
   "outputs": [
    {
     "name": "stdout",
     "output_type": "stream",
     "text": [
      "532\n"
     ]
    }
   ],
   "source": [
    "from functools import reduce\n",
    "nums = [10,302,43,5,65,8,2,4,532,43]\n",
    "max_value = reduce(lambda x,y: x if x > y else y, nums)\n",
    "print(max_value)"
   ]
  },
  {
   "cell_type": "code",
   "execution_count": 84,
   "id": "31b62653",
   "metadata": {},
   "outputs": [],
   "source": [
    "# Lambda function on nested list\n",
    "score = [[1,24,54],[32,43,76], [223,4,65], [98,86,5]]\n",
    "abv_avg = 35\n",
    "new_marks = map(lambda x:x[2]+2 if x[1] >= abv_avg else x[2]-2, score)"
   ]
  },
  {
   "cell_type": "code",
   "execution_count": 85,
   "id": "ff86a7d7",
   "metadata": {},
   "outputs": [
    {
     "data": {
      "text/plain": [
       "[52, 78, 63, 7]"
      ]
     },
     "execution_count": 85,
     "metadata": {},
     "output_type": "execute_result"
    }
   ],
   "source": [
    "list(new_marks)"
   ]
  },
  {
   "cell_type": "code",
   "execution_count": 130,
   "id": "0a0b6f4e",
   "metadata": {},
   "outputs": [
    {
     "data": {
      "text/plain": [
       "[150.5, 300, 230, 102.5]"
      ]
     },
     "execution_count": 130,
     "metadata": {},
     "output_type": "execute_result"
    }
   ],
   "source": [
    "# Lambda on dictionaries\n",
    "sales = [{'country':'India', 'sale':150.5},{'country':'USA', 'sale':300},{'country':'Brazil', 'sale':230},{'country':'Switzerland', 'sale':102.5}]\n",
    "sales_country = map(lambda x: x['sale'] ,sales)\n",
    "list(sales_country)"
   ]
  },
  {
   "cell_type": "code",
   "execution_count": 118,
   "id": "fd78f784",
   "metadata": {},
   "outputs": [
    {
     "name": "stdout",
     "output_type": "stream",
     "text": [
      "What country? india\n"
     ]
    },
    {
     "data": {
      "text/plain": [
       "[{'country': 'India', 'sale': 150.5}]"
      ]
     },
     "execution_count": 118,
     "metadata": {},
     "output_type": "execute_result"
    }
   ],
   "source": [
    "# Using filter on dictionaries along with lambda.\n",
    "user = input('What country? ')\n",
    "india_sales = filter(lambda x:x['country'] == user.title(),sales)\n",
    "list(india_sales)"
   ]
  },
  {
   "cell_type": "code",
   "execution_count": 131,
   "id": "3d97c7d8",
   "metadata": {},
   "outputs": [
    {
     "data": {
      "text/plain": [
       "[{'country': 'USA', 'sale': 300}, {'country': 'Brazil', 'sale': 230}]"
      ]
     },
     "execution_count": 131,
     "metadata": {},
     "output_type": "execute_result"
    }
   ],
   "source": [
    "high_sales = filter(lambda x:x['sale'] > 200,sales)\n",
    "list(high_sales)"
   ]
  },
  {
   "cell_type": "code",
   "execution_count": 137,
   "id": "6bdcb872",
   "metadata": {},
   "outputs": [
    {
     "data": {
      "text/plain": [
       "[117, 47, 13, 741, 46, 71, 16]"
      ]
     },
     "execution_count": 137,
     "metadata": {},
     "output_type": "execute_result"
    }
   ],
   "source": [
    "# Passing multiple list to lambda expressions\n",
    "list1 = [85,43,7,76,1,4,7]\n",
    "list2 = [32,4,6,665,45,67,9]\n",
    "list_addition = map(lambda x,y: x+y, list1, list2)\n",
    "list(list_addition)"
   ]
  },
  {
   "cell_type": "code",
   "execution_count": null,
   "id": "57555664",
   "metadata": {},
   "outputs": [],
   "source": []
  }
 ],
 "metadata": {
  "kernelspec": {
   "display_name": "Python 3 (ipykernel)",
   "language": "python",
   "name": "python3"
  },
  "language_info": {
   "codemirror_mode": {
    "name": "ipython",
    "version": 3
   },
   "file_extension": ".py",
   "mimetype": "text/x-python",
   "name": "python",
   "nbconvert_exporter": "python",
   "pygments_lexer": "ipython3",
   "version": "3.9.7"
  }
 },
 "nbformat": 4,
 "nbformat_minor": 5
}
