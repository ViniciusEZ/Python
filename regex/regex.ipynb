{
 "cells": [
  {
   "cell_type": "markdown",
   "id": "21902d6e",
   "metadata": {},
   "source": [
    "# REGULAR EXPRESSIONS (REGEX).\n",
    "\n",
    "***A regular expression is a special sequence of characters that helps you match or find other strings or sets of strings, using a specialized syntax held in a pattern.***\n"
   ]
  },
  {
   "cell_type": "code",
   "execution_count": 18,
   "id": "32f71fa0",
   "metadata": {},
   "outputs": [
    {
     "name": "stdout",
     "output_type": "stream",
     "text": [
      "<re.Match object; span=(10, 14), match='text'>\n",
      "['text', 'text']\n",
      "This is a text of regular expressions, text\n"
     ]
    }
   ],
   "source": [
    "import re\n",
    "string = 'This is a text of regular expressions, text'\n",
    "print(re.search(r'text', string))\n",
    "print(re.findall(r'text', string))\n",
    "print(re.sub(r'Text','Something' ,string, count=1))"
   ]
  },
  {
   "cell_type": "code",
   "execution_count": 25,
   "id": "0ebd7b2c",
   "metadata": {},
   "outputs": [
    {
     "name": "stdout",
     "output_type": "stream",
     "text": [
      "<re.Match object; span=(10, 14), match='text'>\n",
      "['text', 'text']\n",
      "This is a DEF of regular expressions, DEF\n"
     ]
    }
   ],
   "source": [
    "regexp = re.compile(r'text')\n",
    "print(regexp.search(string))\n",
    "print(regexp.findall(string))\n",
    "print(regexp.sub('DEF',string))"
   ]
  },
  {
   "cell_type": "code",
   "execution_count": 23,
   "id": "a6431216",
   "metadata": {},
   "outputs": [
    {
     "data": {
      "text/plain": [
       "['text', 'text']"
      ]
     },
     "execution_count": 23,
     "metadata": {},
     "output_type": "execute_result"
    }
   ],
   "source": []
  },
  {
   "cell_type": "code",
   "execution_count": 24,
   "id": "8c26f40b",
   "metadata": {},
   "outputs": [
    {
     "data": {
      "text/plain": [
       "'This is a DEF of regular expressions, DEF'"
      ]
     },
     "execution_count": 24,
     "metadata": {},
     "output_type": "execute_result"
    }
   ],
   "source": []
  }
 ],
 "metadata": {
  "kernelspec": {
   "display_name": "Python 3 (ipykernel)",
   "language": "python",
   "name": "python3"
  },
  "language_info": {
   "codemirror_mode": {
    "name": "ipython",
    "version": 3
   },
   "file_extension": ".py",
   "mimetype": "text/x-python",
   "name": "python",
   "nbconvert_exporter": "python",
   "pygments_lexer": "ipython3",
   "version": "3.9.7"
  }
 },
 "nbformat": 4,
 "nbformat_minor": 5
}
